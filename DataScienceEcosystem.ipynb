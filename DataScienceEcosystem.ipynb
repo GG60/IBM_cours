{
  "metadata": {
    "kernelspec": {
      "name": "python",
      "display_name": "Python (Pyodide)",
      "language": "python"
    },
    "language_info": {
      "codemirror_mode": {
        "name": "python",
        "version": 3
      },
      "file_extension": ".py",
      "mimetype": "text/x-python",
      "name": "python",
      "nbconvert_exporter": "python",
      "pygments_lexer": "ipython3",
      "version": "3.8"
    }
  },
  "nbformat_minor": 4,
  "nbformat": 4,
  "cells": [
    {
      "cell_type": "markdown",
      "source": "<h1>Data Science Tools and Ecosystem</h1>",
      "metadata": {}
    },
    {
      "cell_type": "markdown",
      "source": "In this notebook, Data Science Tools and Ecosystem are summarized.",
      "metadata": {}
    },
    {
      "cell_type": "markdown",
      "source": "Some of the popular languages that Data Scientists use are:",
      "metadata": {}
    },
    {
      "cell_type": "code",
      "source": "List = [\"Python\", \"R\", \"SQL\"]",
      "metadata": {
        "trusted": true
      },
      "outputs": [],
      "execution_count": 7
    },
    {
      "cell_type": "markdown",
      "source": "Some of the commonly used libraries used by Data Scientists include:",
      "metadata": {}
    },
    {
      "cell_type": "code",
      "source": "list = [\"TensorFlow\" , \"NumPy\" , \"SciPy\" ]",
      "metadata": {
        "trusted": true
      },
      "outputs": [],
      "execution_count": 9
    },
    {
      "cell_type": "markdown",
      "source": "|Data Science Tools|\n|------------------|\n|RStudio|\n|------------------|\n|Apache Spark|\n|------------------|\n|TensorFlow|",
      "metadata": {}
    },
    {
      "cell_type": "markdown",
      "source": "<h3>Below are a few examples of evaluating arithmetic expressions in Python</h3>",
      "metadata": {}
    },
    {
      "cell_type": "code",
      "source": "# This a simple arithmetic expression to mutiply then add integers\n(3*4)+5 ",
      "metadata": {
        "trusted": true
      },
      "outputs": [
        {
          "execution_count": 19,
          "output_type": "execute_result",
          "data": {
            "text/plain": "17"
          },
          "metadata": {}
        }
      ],
      "execution_count": 19
    },
    {
      "cell_type": "code",
      "source": "# This will convert 200 minutes to hours by diving by 60\n\nmin=200\nh=min//60\nm=min%60\nprint(\"Hours=\",h)",
      "metadata": {
        "trusted": true
      },
      "outputs": [
        {
          "name": "stdout",
          "text": "Hours= 3\n",
          "output_type": "stream"
        }
      ],
      "execution_count": 20
    },
    {
      "cell_type": "markdown",
      "source": "<b> Objectives: </b>\n\n<ul> Julia,\nScala,\nVBA (Visual Basic for Applications)</ul>",
      "metadata": {}
    },
    {
      "cell_type": "markdown",
      "source": "<h1> Author : </h1> \n<h3> Abdullah Alghumayz </h3>",
      "metadata": {}
    },
    {
      "cell_type": "code",
      "source": "",
      "metadata": {
        "trusted": true
      },
      "outputs": [],
      "execution_count": null
    }
  ]
}